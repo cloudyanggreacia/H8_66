{
 "cells": [
  {
   "cell_type": "markdown",
   "id": "d505285e",
   "metadata": {},
   "source": [
    "Day 1 - Perkenalkan Data Analytic"
   ]
  },
  {
   "cell_type": "code",
   "execution_count": 1,
   "id": "5691e744",
   "metadata": {},
   "outputs": [
    {
     "name": "stdout",
     "output_type": "stream",
     "text": [
      "Hai Claudia Anggreacia\n"
     ]
    }
   ],
   "source": [
    "print ('Hai Claudia Anggreacia')"
   ]
  },
  {
   "cell_type": "markdown",
   "id": "cdf4102e",
   "metadata": {},
   "source": [
    "Untuk jadi markdown tekan 'M'"
   ]
  },
  {
   "cell_type": "code",
   "execution_count": 3,
   "id": "052bdbf9",
   "metadata": {},
   "outputs": [
    {
     "data": {
      "text/plain": [
       "4"
      ]
     },
     "execution_count": 3,
     "metadata": {},
     "output_type": "execute_result"
    }
   ],
   "source": [
    "2 + 2"
   ]
  },
  {
   "cell_type": "markdown",
   "id": "541a24b8",
   "metadata": {},
   "source": [
    "3 + 3"
   ]
  },
  {
   "cell_type": "markdown",
   "id": "91cf8b9a",
   "metadata": {},
   "source": [
    "Tes markdown kedua"
   ]
  },
  {
   "cell_type": "code",
   "execution_count": null,
   "id": "f1e01ee8",
   "metadata": {},
   "outputs": [],
   "source": []
  },
  {
   "cell_type": "code",
   "execution_count": null,
   "id": "57602075",
   "metadata": {},
   "outputs": [],
   "source": []
  },
  {
   "cell_type": "code",
   "execution_count": null,
   "id": "5d9b9c5d",
   "metadata": {},
   "outputs": [],
   "source": []
  },
  {
   "cell_type": "code",
   "execution_count": null,
   "id": "73cf0468",
   "metadata": {},
   "outputs": [],
   "source": []
  },
  {
   "cell_type": "code",
   "execution_count": 4,
   "id": "c640183e",
   "metadata": {},
   "outputs": [
    {
     "name": "stdout",
     "output_type": "stream",
     "text": [
      "123\n"
     ]
    }
   ],
   "source": [
    "var=123\n",
    "print(var)"
   ]
  },
  {
   "cell_type": "code",
   "execution_count": 5,
   "id": "e6575637",
   "metadata": {},
   "outputs": [
    {
     "name": "stdout",
     "output_type": "stream",
     "text": [
      "sekarang aku string\n"
     ]
    }
   ],
   "source": [
    "var=\"sekarang aku string\"\n",
    "print(var)"
   ]
  },
  {
   "cell_type": "code",
   "execution_count": 7,
   "id": "1a67d63f",
   "metadata": {},
   "outputs": [
    {
     "name": "stdout",
     "output_type": "stream",
     "text": [
      "<class 'str'>\n"
     ]
    }
   ],
   "source": [
    "print(type(var))"
   ]
  },
  {
   "cell_type": "code",
   "execution_count": 8,
   "id": "d27b7420",
   "metadata": {},
   "outputs": [
    {
     "data": {
      "text/plain": [
       "30"
      ]
     },
     "execution_count": 8,
     "metadata": {},
     "output_type": "execute_result"
    }
   ],
   "source": [
    "a=10\n",
    "b=5\n",
    "c=15\n",
    "\n",
    "a+b+c"
   ]
  },
  {
   "cell_type": "code",
   "execution_count": 10,
   "id": "4b1cfa38",
   "metadata": {},
   "outputs": [
    {
     "data": {
      "text/plain": [
       "20"
      ]
     },
     "execution_count": 10,
     "metadata": {},
     "output_type": "execute_result"
    }
   ],
   "source": [
    "c=2\n",
    "a+b*c"
   ]
  },
  {
   "cell_type": "markdown",
   "id": "11fe326c",
   "metadata": {},
   "source": [
    "Phyton List"
   ]
  },
  {
   "cell_type": "code",
   "execution_count": 14,
   "id": "829a8c75",
   "metadata": {},
   "outputs": [
    {
     "name": "stdout",
     "output_type": "stream",
     "text": [
      "['claudia', 'iren', 'wi hajoon', 'camila']\n"
     ]
    }
   ],
   "source": [
    "a = ['claudia', 'iren', 'wi hajoon', 'camila']\n",
    "print(a)"
   ]
  },
  {
   "cell_type": "code",
   "execution_count": null,
   "id": "ece18827",
   "metadata": {},
   "outputs": [],
   "source": []
  }
 ],
 "metadata": {
  "kernelspec": {
   "display_name": "Python 3",
   "language": "python",
   "name": "python3"
  },
  "language_info": {
   "codemirror_mode": {
    "name": "ipython",
    "version": 3
   },
   "file_extension": ".py",
   "mimetype": "text/x-python",
   "name": "python",
   "nbconvert_exporter": "python",
   "pygments_lexer": "ipython3",
   "version": "3.8.8"
  }
 },
 "nbformat": 4,
 "nbformat_minor": 5
}
