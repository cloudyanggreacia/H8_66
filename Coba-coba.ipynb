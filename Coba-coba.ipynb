{
 "cells": [
  {
   "cell_type": "code",
   "execution_count": 12,
   "id": "2f3d62ae",
   "metadata": {},
   "outputs": [
    {
     "name": "stdout",
     "output_type": "stream",
     "text": [
      "Ketikan temperatur yang ingin dikonversi, eg. 45F, 120C: 10\n",
      "Masukan input yang bener\n",
      "Temperaturnya adalah -12 derajat\n"
     ]
    }
   ],
   "source": [
    "temp= input(\"Ketikan temperatur yang ingin dikonversi, eg. 45F, 120C: \")\n",
    "degree=int(temp[:-1])\n",
    "i_convertion=temp[-1]\n",
    "\n",
    "if i_convertion=='C':\n",
    "     result=int(round((9*degree)/5+32))\n",
    "elif i_convertion=='F':\n",
    "    result=int(round((degree - 32)*5/9))\n",
    "el\n",
    "    print('Masukan input yang bener')\n",
    "    \n",
    "print('Temperaturnya adalah', result,'derajat')"
   ]
  },
  {
   "cell_type": "code",
   "execution_count": 14,
   "id": "d0fc7145",
   "metadata": {},
   "outputs": [
    {
     "name": "stdout",
     "output_type": "stream",
     "text": [
      "Ketikan temperatur yang ingin dikonversi, eg. 45F, 120C: 12\n",
      "Masukan input yang bener\n",
      "Temperaturnya adalah -12 derajat\n"
     ]
    }
   ],
   "source": [
    "ax= input(\"Ketikan temperatur yang ingin dikonversi, eg. 45F, 120C: \")\n",
    "degree=int(ax[:-1])\n",
    "i_convertion=ax[-1]\n",
    "\n",
    "if i_convertion=='C':\n",
    "     result=int(round((9*degree)/5+32))\n",
    "elif i_convertion=='F':\n",
    "    result=int(round((degree - 32)*5/9))\n",
    "else:\n",
    "    print('Masukan input yang bener')\n",
    "    \n",
    "print('Temperaturnya adalah', result,'derajat')"
   ]
  },
  {
   "cell_type": "code",
   "execution_count": 15,
   "id": "19eed9f9",
   "metadata": {},
   "outputs": [
    {
     "name": "stdout",
     "output_type": "stream",
     "text": [
      "Ketikan temperatur yang ingin dikonversi, eg. 45F, 120C: 25\n",
      "Masukan input yang bener\n",
      "Temperaturnya adalah -12 derajat\n"
     ]
    }
   ],
   "source": [
    "ab= input(\"Ketikan temperatur yang ingin dikonversi, eg. 45F, 120C: \")\n",
    "degree=int(ab[:-1])\n",
    "i_convertion=ab[-1]\n",
    "\n",
    "if i_convertion=='C':\n",
    "     result=int(round((9*degree)/5+32))\n",
    "elif i_convertion=='F':\n",
    "    result=int(round((degree - 32)*5/9))\n",
    "else:\n",
    "    print('Masukan input yang bener')\n",
    "    \n",
    "print('Temperaturnya adalah', result,'derajat')"
   ]
  },
  {
   "cell_type": "code",
   "execution_count": 19,
   "id": "3e2e6482",
   "metadata": {},
   "outputs": [
    {
     "name": "stdout",
     "output_type": "stream",
     "text": [
      "Ketikan temperatur yang ingin dikonversi, eg. 45F, 120C: 20\n",
      "Masukan input yang bener\n"
     ]
    },
    {
     "ename": "NameError",
     "evalue": "name 'ox' is not defined",
     "output_type": "error",
     "traceback": [
      "\u001b[1;31m---------------------------------------------------------------------------\u001b[0m",
      "\u001b[1;31mNameError\u001b[0m                                 Traceback (most recent call last)",
      "\u001b[1;32m<ipython-input-19-08d16455442c>\u001b[0m in \u001b[0;36m<module>\u001b[1;34m\u001b[0m\n\u001b[0;32m     10\u001b[0m     \u001b[0mprint\u001b[0m\u001b[1;33m(\u001b[0m\u001b[1;34m'Masukan input yang bener'\u001b[0m\u001b[1;33m)\u001b[0m\u001b[1;33m\u001b[0m\u001b[1;33m\u001b[0m\u001b[0m\n\u001b[0;32m     11\u001b[0m \u001b[1;33m\u001b[0m\u001b[0m\n\u001b[1;32m---> 12\u001b[1;33m \u001b[0mprint\u001b[0m\u001b[1;33m(\u001b[0m\u001b[1;34m'Temperaturnya adalah'\u001b[0m\u001b[1;33m,\u001b[0m \u001b[0mox\u001b[0m\u001b[1;33m,\u001b[0m\u001b[1;34m'derajat'\u001b[0m\u001b[1;33m)\u001b[0m\u001b[1;33m\u001b[0m\u001b[1;33m\u001b[0m\u001b[0m\n\u001b[0m",
      "\u001b[1;31mNameError\u001b[0m: name 'ox' is not defined"
     ]
    }
   ],
   "source": [
    "ax= input(\"Ketikan temperatur yang ingin dikonversi, eg. 45F, 120C: \")\n",
    "tes=int(ax[:-1])\n",
    "tes1=ax[-1]\n",
    "\n",
    "if tes1=='C':\n",
    "    ox=int(round((9*tes)/5+32))\n",
    "elif tes1=='F':\n",
    "    ox=int(round((tes - 32)*5/9))\n",
    "else:\n",
    "    print('Masukan input yang bener')\n",
    "    \n",
    "print('Temperaturnya adalah', ox,'derajat')"
   ]
  },
  {
   "cell_type": "code",
   "execution_count": null,
   "id": "ab918794",
   "metadata": {},
   "outputs": [],
   "source": [
    "abc= input(\"Ketikan temperatur yang ingin dikonversi, eg. 45F, 120C: \")\n",
    "jik=int(abc[:-1])\n",
    "lok=abc[-1]\n",
    "\n",
    "if lok=='C':\n",
    "    tyu=int(round((9*jik)/5+32))\n",
    "elif lok=='F':\n",
    "    tyu=int(round((jik - 32)*5/9))\n",
    "else:\n",
    "    print('Masukan input yang benar')\n",
    "    \n",
    "print('Temperaturnya adalah', tyu,'derajat')"
   ]
  },
  {
   "cell_type": "code",
   "execution_count": null,
   "id": "48a5d32b",
   "metadata": {},
   "outputs": [],
   "source": [
    "while True:\n",
    "    msg=input('Ketikan karakter: ').lower()\n",
    "    print(msg)\n",
    "    if msg == 'stop':\n",
    "        break"
   ]
  },
  {
   "cell_type": "code",
   "execution_count": null,
   "id": "2e158ff8",
   "metadata": {},
   "outputs": [],
   "source": []
  },
  {
   "cell_type": "code",
   "execution_count": null,
   "id": "96a4f519",
   "metadata": {},
   "outputs": [],
   "source": []
  },
  {
   "cell_type": "code",
   "execution_count": null,
   "id": "50cf62ce",
   "metadata": {},
   "outputs": [],
   "source": []
  },
  {
   "cell_type": "code",
   "execution_count": null,
   "id": "c366e695",
   "metadata": {},
   "outputs": [],
   "source": []
  },
  {
   "cell_type": "code",
   "execution_count": null,
   "id": "53087893",
   "metadata": {},
   "outputs": [],
   "source": []
  }
 ],
 "metadata": {
  "kernelspec": {
   "display_name": "Python 3",
   "language": "python",
   "name": "python3"
  },
  "language_info": {
   "codemirror_mode": {
    "name": "ipython",
    "version": 3
   },
   "file_extension": ".py",
   "mimetype": "text/x-python",
   "name": "python",
   "nbconvert_exporter": "python",
   "pygments_lexer": "ipython3",
   "version": "3.8.8"
  }
 },
 "nbformat": 4,
 "nbformat_minor": 5
}
