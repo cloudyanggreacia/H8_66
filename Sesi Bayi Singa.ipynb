{
 "cells": [
  {
   "cell_type": "code",
   "execution_count": 1,
   "id": "664c483a",
   "metadata": {},
   "outputs": [
    {
     "name": "stdout",
     "output_type": "stream",
     "text": [
      "False\n"
     ]
    }
   ],
   "source": [
    "a=10\n",
    "b=20\n",
    "\n",
    "print(a==b)"
   ]
  },
  {
   "cell_type": "code",
   "execution_count": 2,
   "id": "b7261be8",
   "metadata": {},
   "outputs": [
    {
     "name": "stdout",
     "output_type": "stream",
     "text": [
      "True\n"
     ]
    }
   ],
   "source": [
    "print(a!=b)"
   ]
  },
  {
   "cell_type": "code",
   "execution_count": 3,
   "id": "475cc300",
   "metadata": {},
   "outputs": [
    {
     "name": "stdout",
     "output_type": "stream",
     "text": [
      "True\n"
     ]
    }
   ],
   "source": [
    "print(a<=b)"
   ]
  },
  {
   "cell_type": "code",
   "execution_count": 6,
   "id": "7d146847",
   "metadata": {},
   "outputs": [
    {
     "name": "stdout",
     "output_type": "stream",
     "text": [
      "dhymas endra\n"
     ]
    }
   ],
   "source": [
    "s='dhym'\n",
    "t='as'\n",
    "u='endra'\n",
    "\n",
    "z=s+t+' '+u\n",
    "\n",
    "print(z)"
   ]
  },
  {
   "cell_type": "code",
   "execution_count": 8,
   "id": "f29b68d4",
   "metadata": {},
   "outputs": [
    {
     "data": {
      "text/plain": [
       "'clauclauclauclauclau'"
      ]
     },
     "execution_count": 8,
     "metadata": {},
     "output_type": "execute_result"
    }
   ],
   "source": [
    "c='clau'\n",
    "c*5"
   ]
  },
  {
   "cell_type": "code",
   "execution_count": 9,
   "id": "b2e89744",
   "metadata": {},
   "outputs": [
    {
     "name": "stdout",
     "output_type": "stream",
     "text": [
      "abc\n",
      "abc\n"
     ]
    }
   ],
   "source": [
    "d=['abc', 'def', 'ghi']\n",
    "\n",
    "print(d[0])\n",
    "print(d[-3])"
   ]
  },
  {
   "cell_type": "code",
   "execution_count": 10,
   "id": "7cac2bfd",
   "metadata": {},
   "outputs": [
    {
     "name": "stdout",
     "output_type": "stream",
     "text": [
      "['abc', 'def', 'ghi']\n"
     ]
    }
   ],
   "source": [
    "d=['abc', 'def', 'ghi','jkl']\n",
    "print(d[0:3])\n",
    "print(d[0:4])"
   ]
  },
  {
   "cell_type": "code",
   "execution_count": 11,
   "id": "a1024167",
   "metadata": {},
   "outputs": [
    {
     "name": "stdout",
     "output_type": "stream",
     "text": [
      "['abc', 'def', 'ghi', 'jkl']\n"
     ]
    }
   ],
   "source": [
    "print(d[0:4])"
   ]
  },
  {
   "cell_type": "code",
   "execution_count": 13,
   "id": "35673c38",
   "metadata": {},
   "outputs": [
    {
     "name": "stdout",
     "output_type": "stream",
     "text": [
      "['abc', 'def']\n"
     ]
    }
   ],
   "source": [
    "print(d[0:-2])"
   ]
  },
  {
   "cell_type": "code",
   "execution_count": 14,
   "id": "fcb61b24",
   "metadata": {},
   "outputs": [
    {
     "name": "stdout",
     "output_type": "stream",
     "text": [
      "['abc']\n"
     ]
    }
   ],
   "source": [
    "print(d[0:-3])"
   ]
  },
  {
   "cell_type": "code",
   "execution_count": 19,
   "id": "f5c0e0e8",
   "metadata": {},
   "outputs": [
    {
     "name": "stdout",
     "output_type": "stream",
     "text": [
      "['abc', 'def', 'ghi']\n",
      "['abc', 'def', 'ghi', 'jkl']\n",
      "['abc']\n",
      "['abc', 'def', 'ghi']\n",
      "[]\n",
      "['def']\n",
      "['def', 'ghi']\n",
      "[]\n"
     ]
    }
   ],
   "source": [
    "d=['abc', 'def', 'ghi','jkl']\n",
    "\n",
    "print(d[0:3])\n",
    "print(d[0:4])\n",
    "print(d[0:-3])\n",
    "print(d[0:-1])\n",
    "print(d[0:-4])\n",
    "print(d[1:-2])\n",
    "print(d[1:-1])\n",
    "print(d[1:-4])"
   ]
  },
  {
   "cell_type": "code",
   "execution_count": 20,
   "id": "6011196b",
   "metadata": {},
   "outputs": [
    {
     "name": "stdout",
     "output_type": "stream",
     "text": [
      "[]\n"
     ]
    }
   ],
   "source": [
    "print(d[2:-4])"
   ]
  },
  {
   "cell_type": "code",
   "execution_count": 21,
   "id": "84f3e377",
   "metadata": {},
   "outputs": [
    {
     "name": "stdout",
     "output_type": "stream",
     "text": [
      "['abc', 'def', 'ghi', 'jkl', 'xyz', 'ghi']\n"
     ]
    }
   ],
   "source": [
    "print(d+['xyz','ghi'])"
   ]
  },
  {
   "cell_type": "code",
   "execution_count": 22,
   "id": "ecce2e9e",
   "metadata": {},
   "outputs": [
    {
     "name": "stdout",
     "output_type": "stream",
     "text": [
      "['acu', 'ghi', 'gkl', 'abc']\n",
      "4\n",
      "abc\n",
      "gkl\n"
     ]
    }
   ],
   "source": [
    "d=['acu', 'ghi','gkl', 'abc']\n",
    "\n",
    "print(d)\n",
    "print(len(d)) \n",
    "print(min(d)) \n",
    "print(max(d))"
   ]
  },
  {
   "cell_type": "code",
   "execution_count": 23,
   "id": "ef571d3d",
   "metadata": {},
   "outputs": [],
   "source": [
    "d=['acu', 'ghi','gkl', 'abc']\n",
    "del(d[3])\n",
    "\n"
   ]
  },
  {
   "cell_type": "code",
   "execution_count": 24,
   "id": "81e747df",
   "metadata": {},
   "outputs": [
    {
     "name": "stdout",
     "output_type": "stream",
     "text": [
      "['acu', 'ghi', 'gkl']\n"
     ]
    }
   ],
   "source": [
    "print(d)"
   ]
  },
  {
   "cell_type": "code",
   "execution_count": 25,
   "id": "c9daeef6",
   "metadata": {},
   "outputs": [],
   "source": [
    "del(d)"
   ]
  },
  {
   "cell_type": "code",
   "execution_count": 26,
   "id": "3a6a9f49",
   "metadata": {},
   "outputs": [
    {
     "ename": "NameError",
     "evalue": "name 'd' is not defined",
     "output_type": "error",
     "traceback": [
      "\u001b[1;31m---------------------------------------------------------------------------\u001b[0m",
      "\u001b[1;31mNameError\u001b[0m                                 Traceback (most recent call last)",
      "\u001b[1;32m<ipython-input-26-85549cb1de5f>\u001b[0m in \u001b[0;36m<module>\u001b[1;34m\u001b[0m\n\u001b[1;32m----> 1\u001b[1;33m \u001b[0mprint\u001b[0m\u001b[1;33m(\u001b[0m\u001b[0md\u001b[0m\u001b[1;33m)\u001b[0m\u001b[1;33m\u001b[0m\u001b[1;33m\u001b[0m\u001b[0m\n\u001b[0m",
      "\u001b[1;31mNameError\u001b[0m: name 'd' is not defined"
     ]
    }
   ],
   "source": [
    "print(d)"
   ]
  },
  {
   "cell_type": "code",
   "execution_count": 28,
   "id": "fad00335",
   "metadata": {},
   "outputs": [
    {
     "name": "stdout",
     "output_type": "stream",
     "text": [
      "[]\n"
     ]
    }
   ],
   "source": [
    "d=['acu', 'ghi','gkl', 'abc']\n",
    "d=[]\n",
    "print(d)"
   ]
  },
  {
   "cell_type": "code",
   "execution_count": 29,
   "id": "34a0b376",
   "metadata": {},
   "outputs": [
    {
     "name": "stdout",
     "output_type": "stream",
     "text": [
      "['a', 'g', 'k', 'b', 'c', 'd', 'e']\n",
      "['g', 'k', 'b']\n",
      "['a', 1, 2, 3, 4, 5, 6, 'c', 'd', 'e']\n"
     ]
    }
   ],
   "source": [
    "d=['a', 'g','k', 'b','c','d','e']\n",
    "print(d)\n",
    "print(d[1:4])\n",
    "d[1:4]=[1,2,3,4,5,6]\n",
    "print(d)"
   ]
  },
  {
   "cell_type": "code",
   "execution_count": null,
   "id": "4ae3d0fc",
   "metadata": {},
   "outputs": [],
   "source": [
    "'a', 'g','k', 'b','c','d','e'\n",
    "'g','k', 'b'\n",
    "'a',1,2,3,4,5,6,'c','d','e'\n",
    "'a',1,2,3,4,5,6,'c','d','e'"
   ]
  },
  {
   "cell_type": "code",
   "execution_count": null,
   "id": "03e73260",
   "metadata": {},
   "outputs": [],
   "source": []
  },
  {
   "cell_type": "code",
   "execution_count": null,
   "id": "5848ea00",
   "metadata": {},
   "outputs": [],
   "source": []
  },
  {
   "cell_type": "code",
   "execution_count": null,
   "id": "f447f67a",
   "metadata": {},
   "outputs": [],
   "source": []
  },
  {
   "cell_type": "code",
   "execution_count": null,
   "id": "1b313532",
   "metadata": {},
   "outputs": [],
   "source": []
  },
  {
   "cell_type": "code",
   "execution_count": null,
   "id": "4d62439f",
   "metadata": {},
   "outputs": [],
   "source": []
  }
 ],
 "metadata": {
  "kernelspec": {
   "display_name": "Python 3",
   "language": "python",
   "name": "python3"
  },
  "language_info": {
   "codemirror_mode": {
    "name": "ipython",
    "version": 3
   },
   "file_extension": ".py",
   "mimetype": "text/x-python",
   "name": "python",
   "nbconvert_exporter": "python",
   "pygments_lexer": "ipython3",
   "version": "3.8.8"
  }
 },
 "nbformat": 4,
 "nbformat_minor": 5
}
