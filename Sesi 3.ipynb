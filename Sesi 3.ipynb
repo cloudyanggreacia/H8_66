{
 "cells": [
  {
   "cell_type": "code",
   "execution_count": 3,
   "id": "82cde4f1",
   "metadata": {},
   "outputs": [
    {
     "name": "stdout",
     "output_type": "stream",
     "text": [
      "Ketikan karakter: hayu\n",
      "hayu\n",
      "lewat\n",
      "Ketikan karakter: stop\n",
      "stop\n"
     ]
    }
   ],
   "source": [
    "while True:\n",
    "    msg=input('Ketikan karakter: ').lower()\n",
    "    print(msg)\n",
    "    if msg == 'stop':\n",
    "        break\n",
    "    else:\n",
    "        print('lewat')"
   ]
  },
  {
   "cell_type": "code",
   "execution_count": 4,
   "id": "b7a9eda2",
   "metadata": {},
   "outputs": [
    {
     "name": "stdout",
     "output_type": "stream",
     "text": [
      "Ketikan temperatur yang ingin dikonversi, eg. 45F, 120C: 10\n",
      "Masukan input yang benar\n"
     ]
    },
    {
     "ename": "NameError",
     "evalue": "name 'tyu' is not defined",
     "output_type": "error",
     "traceback": [
      "\u001b[1;31m---------------------------------------------------------------------------\u001b[0m",
      "\u001b[1;31mNameError\u001b[0m                                 Traceback (most recent call last)",
      "\u001b[1;32m<ipython-input-4-cf2f3e7cd2ed>\u001b[0m in \u001b[0;36m<module>\u001b[1;34m\u001b[0m\n\u001b[0;32m     10\u001b[0m     \u001b[0mprint\u001b[0m\u001b[1;33m(\u001b[0m\u001b[1;34m'Masukan input yang benar'\u001b[0m\u001b[1;33m)\u001b[0m\u001b[1;33m\u001b[0m\u001b[1;33m\u001b[0m\u001b[0m\n\u001b[0;32m     11\u001b[0m \u001b[1;33m\u001b[0m\u001b[0m\n\u001b[1;32m---> 12\u001b[1;33m \u001b[0mprint\u001b[0m\u001b[1;33m(\u001b[0m\u001b[1;34m'Temperaturnya adalah'\u001b[0m\u001b[1;33m,\u001b[0m \u001b[0mtyu\u001b[0m\u001b[1;33m,\u001b[0m\u001b[1;34m'derajat'\u001b[0m\u001b[1;33m)\u001b[0m\u001b[1;33m\u001b[0m\u001b[1;33m\u001b[0m\u001b[0m\n\u001b[0m",
      "\u001b[1;31mNameError\u001b[0m: name 'tyu' is not defined"
     ]
    }
   ],
   "source": [
    "abc= input(\"Ketikan temperatur yang ingin dikonversi, eg. 45F, 120C: \")\n",
    "jik=int(abc[:-1])\n",
    "lok=abc[-1]\n",
    "\n",
    "if lok=='C':\n",
    "    tyu=int(round((9*jik)/5+32))\n",
    "elif lok=='F':\n",
    "    tyu=int(round((jik - 32)*5/9))\n",
    "else:\n",
    "    print('Masukan input yang benar')\n",
    "    \n",
    "print('Temperaturnya adalah', tyu,'derajat')"
   ]
  },
  {
   "cell_type": "code",
   "execution_count": 16,
   "id": "ae6718f2",
   "metadata": {},
   "outputs": [
    {
     "name": "stdout",
     "output_type": "stream",
     "text": [
      "Ketikan temperatur yang ingin dikonversi, eg. 45F, 120C: 3C\n",
      "Temperaturnya adalah 37 derajat\n"
     ]
    }
   ],
   "source": [
    "temp= input(\"Ketikan temperatur yang ingin dikonversi, eg. 45F, 120C: \")\n",
    "degree=int(temp[:-1])\n",
    "i_convertion=temp[-1]\n",
    "\n",
    "if i_convertion=='C':\n",
    "     result=int(round((9*degree)/5+32))\n",
    "     print('Temperaturnya adalah', result,'derajat')\n",
    "elif i_convertion=='F':\n",
    "    result=int(round((degree - 32)*5/9))\n",
    "    print('Temperaturnya adalah', result,'derajat')\n",
    "else:\n",
    "    print('Masukan input yang bener')\n",
    "    \n"
   ]
  },
  {
   "cell_type": "code",
   "execution_count": 14,
   "id": "47ed09bc",
   "metadata": {},
   "outputs": [],
   "source": [
    "def printme (str):\n",
    "    \"Print fungsi ini\"\n",
    "    print(str)"
   ]
  },
  {
   "cell_type": "code",
   "execution_count": 15,
   "id": "aaa043da",
   "metadata": {},
   "outputs": [
    {
     "name": "stdout",
     "output_type": "stream",
     "text": [
      "print coba\n"
     ]
    }
   ],
   "source": [
    "printme(\"print coba\")"
   ]
  },
  {
   "cell_type": "code",
   "execution_count": 8,
   "id": "18708bcc",
   "metadata": {},
   "outputs": [],
   "source": [
    "def FungsiTambah(a,b,c):\n",
    "    \"Funsi ini untuk menambahkan ketiga parameter\"\n",
    "    print(a+b+c)\n",
    "    return"
   ]
  },
  {
   "cell_type": "code",
   "execution_count": 9,
   "id": "b66820af",
   "metadata": {},
   "outputs": [
    {
     "name": "stdout",
     "output_type": "stream",
     "text": [
      "6\n"
     ]
    }
   ],
   "source": [
    "FungsiTambah(1,2,3)"
   ]
  },
  {
   "cell_type": "code",
   "execution_count": 17,
   "id": "7c451d78",
   "metadata": {},
   "outputs": [],
   "source": [
    "def changeme ( mylist ):\n",
    "    \"This changes a passed list into this function\"\n",
    "    mylist.append([1,2,3,4]);\n",
    "    print (\"Values inside the function: \", mylist)\n",
    "    return\n"
   ]
  },
  {
   "cell_type": "code",
   "execution_count": 19,
   "id": "cc1dfe65",
   "metadata": {},
   "outputs": [
    {
     "name": "stdout",
     "output_type": "stream",
     "text": [
      "Values outside the function:  [10, 20, 30]\n"
     ]
    }
   ],
   "source": [
    "mylist= [10,20,30];\n",
    "print(\"Values outside the function: \", mylist)"
   ]
  },
  {
   "cell_type": "code",
   "execution_count": 20,
   "id": "6c1398f2",
   "metadata": {},
   "outputs": [
    {
     "name": "stdout",
     "output_type": "stream",
     "text": [
      "Values inside the function:  [10, 20, 30, [1, 2, 3, 4]]\n",
      "Values outside the function:  [10, 20, 30, [1, 2, 3, 4]]\n"
     ]
    }
   ],
   "source": [
    "changeme(mylist);\n",
    "print(\"Values outside the function: \", mylist)"
   ]
  },
  {
   "cell_type": "code",
   "execution_count": null,
   "id": "12d127e5",
   "metadata": {},
   "outputs": [],
   "source": [
    "def printme (str):\n",
    "    \"Print buat testing\"\n",
    "    print(str)\n",
    "    return;"
   ]
  },
  {
   "cell_type": "code",
   "execution_count": 21,
   "id": "f9d40581",
   "metadata": {},
   "outputs": [
    {
     "ename": "TypeError",
     "evalue": "printme() missing 1 required positional argument: 'str'",
     "output_type": "error",
     "traceback": [
      "\u001b[1;31m---------------------------------------------------------------------------\u001b[0m",
      "\u001b[1;31mTypeError\u001b[0m                                 Traceback (most recent call last)",
      "\u001b[1;32m<ipython-input-21-19c689ae8a3e>\u001b[0m in \u001b[0;36m<module>\u001b[1;34m\u001b[0m\n\u001b[1;32m----> 1\u001b[1;33m \u001b[0mprintme\u001b[0m\u001b[1;33m(\u001b[0m\u001b[1;33m)\u001b[0m\u001b[1;33m\u001b[0m\u001b[1;33m\u001b[0m\u001b[0m\n\u001b[0m",
      "\u001b[1;31mTypeError\u001b[0m: printme() missing 1 required positional argument: 'str'"
     ]
    }
   ],
   "source": [
    "printme()"
   ]
  },
  {
   "cell_type": "code",
   "execution_count": 23,
   "id": "06bab7c1",
   "metadata": {},
   "outputs": [
    {
     "name": "stdout",
     "output_type": "stream",
     "text": [
      "Testing\n"
     ]
    }
   ],
   "source": [
    "printme(\"Testing\")"
   ]
  },
  {
   "cell_type": "code",
   "execution_count": null,
   "id": "97c7c8e8",
   "metadata": {},
   "outputs": [],
   "source": [
    "def printme (str):\n",
    "    \"Print buat testing\"\n",
    "    print(str)\n",
    "    return;"
   ]
  },
  {
   "cell_type": "code",
   "execution_count": 24,
   "id": "28a289e9",
   "metadata": {},
   "outputs": [
    {
     "name": "stdout",
     "output_type": "stream",
     "text": [
      "Hackativ 8\n",
      "Hackativ 8\n"
     ]
    }
   ],
   "source": [
    "printme(str= \"Hackativ 8\")\n",
    "printme(\"Hackativ 8\")"
   ]
  },
  {
   "cell_type": "code",
   "execution_count": 31,
   "id": "e947025d",
   "metadata": {},
   "outputs": [
    {
     "name": "stdout",
     "output_type": "stream",
     "text": [
      "Name:  claudia\n",
      "Age:  4\n",
      "Name:  4\n",
      "Age:  claudia\n"
     ]
    }
   ],
   "source": [
    "def printinfo (name, age):\n",
    "    print(\"Name: \", name)\n",
    "    print(\"Age: \", age)\n",
    "    return;\n",
    "\n",
    "printinfo (age=4, name=\"claudia\")\n",
    "printinfo (4, \"claudia\")"
   ]
  },
  {
   "cell_type": "code",
   "execution_count": 32,
   "id": "18836537",
   "metadata": {},
   "outputs": [
    {
     "name": "stdout",
     "output_type": "stream",
     "text": [
      "Output is: \n",
      "10\n"
     ]
    }
   ],
   "source": [
    "def printinfo(arg1, *vartuple):\n",
    "    \"Print apaan ga ngerti\"\n",
    "    print(\"Output is: \")\n",
    "    print(arg1)\n",
    "    for var in vartuple:\n",
    "        print(var)\n",
    "    return;\n",
    "\n",
    "printinfo(10)"
   ]
  },
  {
   "cell_type": "code",
   "execution_count": 59,
   "id": "975467f1",
   "metadata": {},
   "outputs": [
    {
     "name": "stdout",
     "output_type": "stream",
     "text": [
      "foo\n",
      "bar\n",
      "baz\n",
      "hihi\n"
     ]
    }
   ],
   "source": [
    "a = ['foo','bar','baz','hihi']\n",
    "#print(i)\n",
    "m=8\n",
    "for m in a:\n",
    "    print(m)"
   ]
  },
  {
   "cell_type": "code",
   "execution_count": 60,
   "id": "1258746b",
   "metadata": {},
   "outputs": [
    {
     "ename": "IndentationError",
     "evalue": "expected an indented block (<ipython-input-60-243fb016c0d0>, line 6)",
     "output_type": "error",
     "traceback": [
      "\u001b[1;36m  File \u001b[1;32m\"<ipython-input-60-243fb016c0d0>\"\u001b[1;36m, line \u001b[1;32m6\u001b[0m\n\u001b[1;33m    print(i)\u001b[0m\n\u001b[1;37m    ^\u001b[0m\n\u001b[1;31mIndentationError\u001b[0m\u001b[1;31m:\u001b[0m expected an indented block\n"
     ]
    }
   ],
   "source": [
    "for i in ['dhymas','nisa','claudi','badut']:\n",
    "    if 'c' in i:\n",
    "        #print(i)\n",
    "        \n",
    "        \n",
    "    print(i)"
   ]
  },
  {
   "cell_type": "code",
   "execution_count": 61,
   "id": "b928305f",
   "metadata": {},
   "outputs": [
    {
     "ename": "SyntaxError",
     "evalue": "invalid syntax (<ipython-input-61-2d920c342ece>, line 1)",
     "output_type": "error",
     "traceback": [
      "\u001b[1;36m  File \u001b[1;32m\"<ipython-input-61-2d920c342ece>\"\u001b[1;36m, line \u001b[1;32m1\u001b[0m\n\u001b[1;33m    a=\u001b[0m\n\u001b[1;37m      ^\u001b[0m\n\u001b[1;31mSyntaxError\u001b[0m\u001b[1;31m:\u001b[0m invalid syntax\n"
     ]
    }
   ],
   "source": [
    "a="
   ]
  },
  {
   "cell_type": "code",
   "execution_count": 67,
   "id": "98bf56c3",
   "metadata": {},
   "outputs": [
    {
     "name": "stdout",
     "output_type": "stream",
     "text": [
      "7\n"
     ]
    }
   ],
   "source": [
    "def tambahan(a,b,c):\n",
    "    \"Fungsi tambahan\"\n",
    "    print(a+b-c)\n",
    "    return\n",
    "    \n",
    "tambahan(2,10,5)"
   ]
  },
  {
   "cell_type": "code",
   "execution_count": 69,
   "id": "26e515d3",
   "metadata": {},
   "outputs": [
    {
     "name": "stdout",
     "output_type": "stream",
     "text": [
      "claudia dan dhymas\n"
     ]
    }
   ],
   "source": [
    "def printme (str):\n",
    "    \"Fungsi untuk mencetak\"\n",
    "    print(str)\n",
    "    return\n",
    "\n",
    "printme(\"claudia dan dhymas\")"
   ]
  },
  {
   "cell_type": "code",
   "execution_count": null,
   "id": "862795bf",
   "metadata": {},
   "outputs": [],
   "source": [
    "def changeme(mylist):\n",
    "    \"Fungsi untuk menambahkan list\"\n",
    "    mylist.append([1,2,3,4]);\n",
    "    print(\"Value inside the function:\", mylist)\n",
    "    return"
   ]
  },
  {
   "cell_type": "code",
   "execution_count": 76,
   "id": "b3647577",
   "metadata": {},
   "outputs": [
    {
     "name": "stdout",
     "output_type": "stream",
     "text": [
      "Values inside the function:  [10, 30, 40, 'a', [1, 2, 3, 4]]\n",
      "Values inside the function:  [1, 1, 5, 6, 'bantal', 'peju', [1, 2, 3, 4]]\n",
      "Values inside the function:  [1, [1, 2, 3, 4]]\n"
     ]
    }
   ],
   "source": [
    "daftar=[10,30,40,'a'];\n",
    "kasur=[1,1,5,6,'bantal','peju']\n",
    "kamar=[1]\n",
    "\n",
    "changeme(daftar);\n",
    "changeme(kasur);\n",
    "changeme(kamar);"
   ]
  },
  {
   "cell_type": "code",
   "execution_count": 87,
   "id": "83a20e18",
   "metadata": {},
   "outputs": [],
   "source": [
    "def changemeagain(list):\n",
    "    \"Fungsi untuk mengganti list\"\n",
    "    list=([1,2,3,4]);\n",
    "    print(\"Value inside the function:\", list)\n",
    "    return"
   ]
  },
  {
   "cell_type": "code",
   "execution_count": 88,
   "id": "f82a772f",
   "metadata": {},
   "outputs": [
    {
     "name": "stdout",
     "output_type": "stream",
     "text": [
      "Value inside the function: [1, 2, 3, 4]\n",
      "Value inside the function: [1, 2, 3, 4]\n",
      "Value inside the function: [1, 2, 3, 4]\n"
     ]
    }
   ],
   "source": [
    "aku=[10,30,40,'a'];\n",
    "kamu=[1,1,5,6,'bantal','peju']\n",
    "kita=[1]\n",
    "\n",
    "changemeagain(aku);\n",
    "changemeagain(kamu);\n",
    "changemeagain(kita);"
   ]
  },
  {
   "cell_type": "code",
   "execution_count": 6,
   "id": "63be385f",
   "metadata": {},
   "outputs": [],
   "source": [
    "import mod"
   ]
  },
  {
   "cell_type": "code",
   "execution_count": 15,
   "id": "108e285d",
   "metadata": {},
   "outputs": [
    {
     "name": "stdout",
     "output_type": "stream",
     "text": [
      "Ini claudia\n"
     ]
    }
   ],
   "source": [
    "print(mod.c)\n"
   ]
  },
  {
   "cell_type": "code",
   "execution_count": 16,
   "id": "7f4e338c",
   "metadata": {},
   "outputs": [
    {
     "data": {
      "text/plain": [
       "[1, 2, 3, 4]"
      ]
     },
     "execution_count": 16,
     "metadata": {},
     "output_type": "execute_result"
    }
   ],
   "source": [
    "mod.cl"
   ]
  },
  {
   "cell_type": "markdown",
   "id": "bd21ae0b",
   "metadata": {},
   "source": [
    "mod.foo"
   ]
  },
  {
   "cell_type": "code",
   "execution_count": 7,
   "id": "79e5d66a",
   "metadata": {},
   "outputs": [
    {
     "name": "stdout",
     "output_type": "stream",
     "text": [
      "arg=['quux', 'corge']\n"
     ]
    }
   ],
   "source": [
    "mod.foo(['quux', 'corge'])"
   ]
  },
  {
   "cell_type": "code",
   "execution_count": null,
   "id": "242eb27a",
   "metadata": {},
   "outputs": [],
   "source": []
  },
  {
   "cell_type": "code",
   "execution_count": 8,
   "id": "f92cd2e3",
   "metadata": {},
   "outputs": [
    {
     "data": {
      "text/plain": [
       "<mod.Foo at 0x18a0ab26d30>"
      ]
     },
     "execution_count": 8,
     "metadata": {},
     "output_type": "execute_result"
    }
   ],
   "source": [
    "x=mod.Foo()\n",
    "x"
   ]
  },
  {
   "cell_type": "code",
   "execution_count": 1,
   "id": "8ae8f2de",
   "metadata": {},
   "outputs": [],
   "source": [
    "from mod import *"
   ]
  },
  {
   "cell_type": "code",
   "execution_count": 2,
   "id": "9cd971bd",
   "metadata": {},
   "outputs": [
    {
     "data": {
      "text/plain": [
       "'Ini claudia'"
      ]
     },
     "execution_count": 2,
     "metadata": {},
     "output_type": "execute_result"
    }
   ],
   "source": [
    "c"
   ]
  },
  {
   "cell_type": "code",
   "execution_count": 3,
   "id": "f6b46edb",
   "metadata": {},
   "outputs": [
    {
     "data": {
      "text/plain": [
       "[1, 2, 3, 4]"
      ]
     },
     "execution_count": 3,
     "metadata": {},
     "output_type": "execute_result"
    }
   ],
   "source": [
    "cl"
   ]
  },
  {
   "cell_type": "code",
   "execution_count": 11,
   "id": "6d9cb4f9",
   "metadata": {},
   "outputs": [
    {
     "name": "stdout",
     "output_type": "stream",
     "text": [
      "arg=['aku', 'benci', 'kamu']\n"
     ]
    }
   ],
   "source": [
    "foo(['aku','benci','kamu'])"
   ]
  },
  {
   "cell_type": "code",
   "execution_count": 12,
   "id": "563e01f7",
   "metadata": {},
   "outputs": [
    {
     "data": {
      "text/plain": [
       "mod.Foo"
      ]
     },
     "execution_count": 12,
     "metadata": {},
     "output_type": "execute_result"
    }
   ],
   "source": [
    "Foo"
   ]
  },
  {
   "cell_type": "code",
   "execution_count": 13,
   "id": "c4cb0f9a",
   "metadata": {},
   "outputs": [
    {
     "data": {
      "text/plain": [
       "<mod.Foo at 0x18a0ab26ca0>"
      ]
     },
     "execution_count": 13,
     "metadata": {},
     "output_type": "execute_result"
    }
   ],
   "source": [
    "x=mod.Foo()\n",
    "x"
   ]
  },
  {
   "cell_type": "code",
   "execution_count": 14,
   "id": "49d8012e",
   "metadata": {},
   "outputs": [],
   "source": [
    "import mod as modulku"
   ]
  },
  {
   "cell_type": "code",
   "execution_count": 15,
   "id": "e8b0d503",
   "metadata": {},
   "outputs": [
    {
     "data": {
      "text/plain": [
       "'Ini claudia'"
      ]
     },
     "execution_count": 15,
     "metadata": {},
     "output_type": "execute_result"
    }
   ],
   "source": [
    "modulku.c"
   ]
  },
  {
   "cell_type": "code",
   "execution_count": 16,
   "id": "eb0e3666",
   "metadata": {},
   "outputs": [
    {
     "data": {
      "text/plain": [
       "[1, 2, 3, 4]"
      ]
     },
     "execution_count": 16,
     "metadata": {},
     "output_type": "execute_result"
    }
   ],
   "source": [
    "modulku.cl"
   ]
  },
  {
   "cell_type": "code",
   "execution_count": 17,
   "id": "b63d43e0",
   "metadata": {},
   "outputs": [
    {
     "name": "stdout",
     "output_type": "stream",
     "text": [
      "arg=['aku', 'benci', 'kamu']\n"
     ]
    }
   ],
   "source": [
    "modulku.foo(['aku','benci','kamu'])"
   ]
  },
  {
   "cell_type": "code",
   "execution_count": 18,
   "id": "51b1c422",
   "metadata": {},
   "outputs": [
    {
     "data": {
      "text/plain": [
       "mod.Foo"
      ]
     },
     "execution_count": 18,
     "metadata": {},
     "output_type": "execute_result"
    }
   ],
   "source": [
    "modulku.Foo"
   ]
  },
  {
   "cell_type": "code",
   "execution_count": null,
   "id": "3e93205f",
   "metadata": {},
   "outputs": [],
   "source": []
  }
 ],
 "metadata": {
  "kernelspec": {
   "display_name": "Python 3",
   "language": "python",
   "name": "python3"
  },
  "language_info": {
   "codemirror_mode": {
    "name": "ipython",
    "version": 3
   },
   "file_extension": ".py",
   "mimetype": "text/x-python",
   "name": "python",
   "nbconvert_exporter": "python",
   "pygments_lexer": "ipython3",
   "version": "3.8.8"
  }
 },
 "nbformat": 4,
 "nbformat_minor": 5
}
